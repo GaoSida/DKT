{
 "cells": [
  {
   "cell_type": "markdown",
   "metadata": {},
   "source": [
    "# Split File\n",
    "Just like the file used in Mozer's code. It uses a bitmap to split the train and test set. We can use this file to easily cross validation."
   ]
  },
  {
   "cell_type": "code",
   "execution_count": 5,
   "metadata": {
    "collapsed": false
   },
   "outputs": [
    {
     "name": "stdout",
     "output_type": "stream",
     "text": [
      "4163 sequences\n"
     ]
    }
   ],
   "source": [
    "import pandas as pd\n",
    "df = pd.read_csv('assistment_for_dkt.csv')\n",
    "num_seqs = len(df['student'].value_counts())\n",
    "print str(num_seqs) + \" sequences\"\n",
    "\n",
    "test_ratio = 0.2\n",
    "train_size = int(num_seqs * (1 - test_ratio))"
   ]
  },
  {
   "cell_type": "code",
   "execution_count": 6,
   "metadata": {
    "collapsed": true
   },
   "outputs": [],
   "source": [
    "# basic: begin with train, end with test\n",
    "split_map = file(\"split_basic.csv\", 'w')\n",
    "split_map.write('split\\n')\n",
    "\n",
    "for i in range(train_size):\n",
    "    split_map.write('0\\n')\n",
    "for i in range(train_size, num_seqs):\n",
    "    split_map.write('1\\n')\n",
    "split_map.flush()\n",
    "split_map.close()"
   ]
  },
  {
   "cell_type": "code",
   "execution_count": 7,
   "metadata": {
    "collapsed": true
   },
   "outputs": [],
   "source": [
    "import random\n",
    "# random, for varied length\n",
    "split_map = file(\"split_random.csv\", 'w')\n",
    "split_map.write('split\\n')\n",
    "\n",
    "split_bitmap = []\n",
    "for i in range(train_size):\n",
    "    split_bitmap.append(0)\n",
    "for i in range(train_size, num_seqs):\n",
    "    split_bitmap.append(1)\n",
    "random.shuffle(split_bitmap)\n",
    "\n",
    "for i in range(num_seqs):\n",
    "    split_map.write(str(split_bitmap[i]) + '\\n')\n",
    "split_map.flush()\n",
    "split_map.close()"
   ]
  },
  {
   "cell_type": "code",
   "execution_count": 11,
   "metadata": {
    "collapsed": false
   },
   "outputs": [],
   "source": [
    "import numpy as np\n",
    "# generate a very long random split file to cope with different datasize\n",
    "tot_length = 20000\n",
    "bitmap_split = np.ones(tot_length)\n",
    "for i in range(int(tot_length * 0.5)):\n",
    "    bitmap_split[i] = 0\n",
    "split_map = file(\"../split_50%train.csv\", 'w')\n",
    "split_map.write('split\\n')\n",
    "random.shuffle(bitmap_split)\n",
    "for i in range(tot_length):\n",
    "    split_map.write(str(bitmap_split[i]) + '\\n')\n",
    "split_map.flush()\n",
    "split_map.close()\n",
    "\n",
    "bitmap_split = np.ones(tot_length)\n",
    "for i in range(int(tot_length * 0.8)):\n",
    "    bitmap_split[i] = 0\n",
    "split_map = file(\"../split_80%train.csv\", 'w')\n",
    "split_map.write('split\\n')\n",
    "random.shuffle(bitmap_split)\n",
    "for i in range(tot_length):\n",
    "    split_map.write(str(bitmap_split[i]) + '\\n')\n",
    "split_map.flush()\n",
    "split_map.close()"
   ]
  },
  {
   "cell_type": "code",
   "execution_count": 13,
   "metadata": {
    "collapsed": false
   },
   "outputs": [
    {
     "name": "stdout",
     "output_type": "stream",
     "text": [
      "4217\n",
      "3361\n",
      "856\n"
     ]
    }
   ],
   "source": [
    "dirty_split = file('assistments_dirty_split.txt')\n",
    "dirty_split_output = file('dirty_split.csv', 'w')\n",
    "\n",
    "dirty_split_output.write('split\\n')\n",
    "\n",
    "for line in dirty_split:\n",
    "    line = line.split()\n",
    "    print len(line)\n",
    "    \n",
    "    train_cnt = 0\n",
    "    test_cnt = 0\n",
    "    for token in line:\n",
    "        if token == '1':\n",
    "            dirty_split_output.write('0\\n')\n",
    "            train_cnt += 1\n",
    "        else:\n",
    "            dirty_split_output.write('1\\n')\n",
    "            test_cnt += 1\n",
    "\n",
    "print train_cnt\n",
    "print test_cnt\n",
    "dirty_split_output.flush()\n",
    "dirty_split_output.close()\n",
    "        \n",
    "    "
   ]
  }
 ],
 "metadata": {
  "kernelspec": {
   "display_name": "Python [Root]",
   "language": "python",
   "name": "Python [Root]"
  },
  "language_info": {
   "codemirror_mode": {
    "name": "ipython",
    "version": 2
   },
   "file_extension": ".py",
   "mimetype": "text/x-python",
   "name": "python",
   "nbconvert_exporter": "python",
   "pygments_lexer": "ipython2",
   "version": "2.7.11"
  }
 },
 "nbformat": 4,
 "nbformat_minor": 0
}
