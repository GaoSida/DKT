{
 "cells": [
  {
   "cell_type": "code",
   "execution_count": 2,
   "metadata": {
    "collapsed": false
   },
   "outputs": [
    {
     "name": "stdout",
     "output_type": "stream",
     "text": [
      "(401756, 30)\n",
      "(401756, 30)\n",
      "Index([u'order_id', u'assignment_id', u'user_id', u'assistment_id',\n",
      "       u'problem_id', u'original', u'correct', u'attempt_count',\n",
      "       u'ms_first_response', u'tutor_mode', u'answer_type', u'sequence_id',\n",
      "       u'student_class_id', u'position', u'type', u'base_sequence_id',\n",
      "       u'skill_id', u'skill_name', u'teacher_id', u'school_id', u'hint_count',\n",
      "       u'hint_total', u'overlap_time', u'template_id', u'answer_id',\n",
      "       u'answer_text', u'first_action', u'bottom_hint', u'opportunity',\n",
      "       u'opportunity_original'],\n",
      "      dtype='object')\n"
     ]
    }
   ],
   "source": [
    "import pandas as pd\n",
    "import numpy as np\n",
    "import pickle\n",
    "import random\n",
    "\n",
    "assitments = pd.read_csv('skill_builder_data_corrected.csv')\n",
    "print(assitments.shape)\n",
    "num_skills = len(assitments['skill_id'].value_counts())\n",
    "assitments['skill_id'].fillna(num_skills, inplace=True)\n",
    "assitments.dropna(subset=[\"skill_id\"], inplace=True)\n",
    "assitments.dropna(subset=[\"user_id\"], inplace=True)\n",
    "assitments.sort_values(by='order_id', inplace=True)\n",
    "print(assitments.shape)\n",
    "print(assitments.columns)"
   ]
  },
  {
   "cell_type": "code",
   "execution_count": 3,
   "metadata": {
    "collapsed": false
   },
   "outputs": [
    {
     "name": "stdout",
     "output_type": "stream",
     "text": [
      "124\n",
      "Now we have 4217 students\n"
     ]
    }
   ],
   "source": [
    "# skill 0 appears the most\n",
    "skills = assitments['skill_id'].value_counts()\n",
    "print len(skills)\n",
    "skill_hashed_to_original = skills.index.astype(int)\n",
    "skill_original_to_hashed = dict()\n",
    "for i in range(len(skill_hashed_to_original)):\n",
    "    skill_original_to_hashed[skill_hashed_to_original[i]] = i\n",
    "pickle.dump(skill_hashed_to_original, file('124skill_hashed_to_original.pickle', 'w'))\n",
    "pickle.dump(skill_original_to_hashed, file('124skill_original_to_hashed.pickle', 'w'))\n",
    "\n",
    "# student 0 appears the most\n",
    "students = assitments['user_id'].value_counts()\n",
    "print \"Now we have %d students\" % len(students)\n",
    "student_hashed_to_original = students.index.astype(int)\n",
    "student_original_to_hashed = dict()\n",
    "for i in range(len(student_hashed_to_original)):\n",
    "    student_original_to_hashed[student_hashed_to_original[i]] = i\n",
    "pickle.dump(student_hashed_to_original, file('124student_hashed_to_original.pickle', 'w'))\n",
    "pickle.dump(student_original_to_hashed, file('124student_original_to_hashed.pickle', 'w'))"
   ]
  },
  {
   "cell_type": "code",
   "execution_count": 4,
   "metadata": {
    "collapsed": false
   },
   "outputs": [
    {
     "name": "stdout",
     "output_type": "stream",
     "text": [
      "wrote 401756 records\n"
     ]
    }
   ],
   "source": [
    "# output file\n",
    "output = file('assistment_124skills_for_dkt.csv', 'w')\n",
    "output.write('student,skill,correct\\n')\n",
    "student_list = student_original_to_hashed.keys()[:]\n",
    "random.shuffle(student_list)\n",
    "record_cnt = 0\n",
    "line2write = ''\n",
    "for student in student_list:\n",
    "    student_sequence = assitments[assitments['user_id'] == student]\n",
    "    student_id = student_original_to_hashed[student]\n",
    "    skill_list = student_sequence['skill_id'].values\n",
    "    correct_list = student_sequence['correct'].values\n",
    "    for i in range(len(student_sequence)):\n",
    "        line2write += (str(student_id) + ',' + \\\n",
    "                     str(skill_original_to_hashed[int(skill_list[i])]) + \\\n",
    "                     ',' + str(int(correct_list[i])) + '\\n')\n",
    "        record_cnt += 1\n",
    "output.write(line2write)\n",
    "output.flush()\n",
    "output.close()\n",
    "print \"wrote %d records\" % record_cnt\n",
    "# Do not forget to flush and close file after you are done writing!!"
   ]
  }
 ],
 "metadata": {
  "anaconda-cloud": {},
  "kernelspec": {
   "display_name": "Python [Root]",
   "language": "python",
   "name": "Python [Root]"
  },
  "language_info": {
   "codemirror_mode": {
    "name": "ipython",
    "version": 2
   },
   "file_extension": ".py",
   "mimetype": "text/x-python",
   "name": "python",
   "nbconvert_exporter": "python",
   "pygments_lexer": "ipython2",
   "version": "2.7.11"
  }
 },
 "nbformat": 4,
 "nbformat_minor": 0
}
