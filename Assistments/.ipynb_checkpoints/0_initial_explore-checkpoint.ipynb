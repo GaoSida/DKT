{
 "cells": [
  {
   "cell_type": "markdown",
   "metadata": {},
   "source": [
    "This file is for exploring the Assistments Dataset for the first time. Note that the two files without a year label are from the school year of 2009-2010. Full explanations of the headings is [here](https://sites.google.com/site/assistmentsdata/home/assistment-2009-2010-data).\n",
    "\n",
    "The corrected version of data can be found [here](https://sites.google.com/site/assistmentsdata/home/assistment-2009-2010-data/skill-builder-data-2009-2010)."
   ]
  },
  {
   "cell_type": "code",
   "execution_count": 1,
   "metadata": {
    "collapsed": false
   },
   "outputs": [
    {
     "name": "stdout",
     "output_type": "stream",
     "text": [
      "shape of skill_2015: (708631, 4)\n",
      "shape of non_skill_2010: (603128, 30)\n",
      "shape of skill_2010: (525534, 30)\n",
      "shape of skill_corrected_2010: (401756, 30)\n"
     ]
    }
   ],
   "source": [
    "import pandas as pd\n",
    "# set low_memory=False to deal with mixed types in a column\n",
    "skill_2015 = pd.read_csv('2015_100_skill_builders_main_problems.csv', low_memory=False)\n",
    "non_skill_2010 = pd.read_csv('non_skill_builder_data_new.csv', low_memory=False)\n",
    "skill_2010 = pd.read_csv('skill_builder_data.csv', low_memory=False)\n",
    "skill_corrected_2010 = pd.read_csv('skill_builder_data_corrected.csv', low_memory=False)\n",
    "\n",
    "print('shape of skill_2015: %s' % str(skill_2015.shape))\n",
    "print('shape of non_skill_2010: %s' % str(non_skill_2010.shape))\n",
    "print('shape of skill_2010: %s' % str(skill_2010.shape))\n",
    "print('shape of skill_corrected_2010: %s' % str(skill_corrected_2010.shape))"
   ]
  },
  {
   "cell_type": "code",
   "execution_count": 2,
   "metadata": {
    "collapsed": false
   },
   "outputs": [
    {
     "name": "stdout",
     "output_type": "stream",
     "text": [
      "0_initial_explore.ipynb\n",
      "1_preprocessing.ipynb\n",
      "2015_100_skill_builders_main_problems.csv\n",
      "assistment_dirty_for_dkt.csv\n",
      "assistment_for_dkt.csv\n",
      "assistments_dirty.txt\n",
      "non_skill_builder_data_new.csv\n",
      "saving_during_set12\n",
      "saving_during_set13\n",
      "saving_during_set14\n",
      "skill_builder_data.csv\n",
      "skill_builder_data_corrected.csv\n",
      "skill_hashed_to_original.pickle\n",
      "skill_original_to_hashed.pickle\n",
      "student_hashed_to_original.pickle\n",
      "student_original_to_hashed.pickle\n",
      "test_prediction_result_set_10\n",
      "test_prediction_save_set_11\n",
      "\n",
      "user_id,log_id,sequence_id,correct\r\n",
      "50121,167478035,7014,0\r\n",
      "50121,167478043,7014,1\r\n",
      "50121,167478053,7014,1\r\n",
      "50121,167478069,7014,1\r\n",
      "\n",
      "order_id,assignment_id,user_id,assistment_id,problem_id,original,correct,attempt_count,ms_first_response,tutor_mode,answer_type,sequence_id,student_class_id,position,type,base_sequence_id,skill_id,skill_name,teacher_id,school_id,hint_count,hint_total,overlap_time,template_id,answer_id,answer_text,first_action,bottom_hint,opportunity,opportunity_original\r\n",
      "20223588,245748,77759,12914,12914,1,1,1,57310,tutor,choose_1,5366,12138,23,LinearSection,5366,231,Symbolization,41451,3784,0,0,57310,12914,20935,,0,,1,1\r\n",
      "20223595,245748,77759,15320,15320,1,1,1,88691,tutor,choose_1,5366,12138,23,LinearSection,5366,231,Symbolization,41451,3784,0,0,88691,15320,22385,,0,,2,2\r\n",
      "20223601,245748,77759,14529,14529,1,1,1,43748,tutor,choose_1,5366,12138,23,LinearSection,5366,231,Symbolization,41451,3784,0,0,43748,14529,20735,,0,,3,3\r\n",
      "20223926,245698,77912,1159,1159,1,0,2,45587,tutor,algebra,2655,12138,8,RandomIterateSection,2655,100,,41451,3784,0,0,53599,1159,,3,0,,1,1\r\n",
      "\n",
      "order_id,assignment_id,user_id,assistment_id,problem_id,original,correct,attempt_count,ms_first_response,tutor_mode,answer_type,sequence_id,student_class_id,position,type,base_sequence_id,skill_id,skill_name,teacher_id,school_id,hint_count,hint_total,overlap_time,template_id,answer_id,answer_text,first_action,bottom_hint,opportunity,opportunity_original\r\n",
      "33022537,277618,64525,33139,51424,1,1,1,32454,tutor,algebra,5948,13241,126,MasterySection,5948,1,Box and Whisker,22763,73,0,3,32454,30799,,26,0,,1,1\r\n",
      "33022709,277618,64525,33150,51435,1,1,1,4922,tutor,algebra,5948,13241,126,MasterySection,5948,1,Box and Whisker,22763,73,0,3,4922,30799,,55,0,,2,2\r\n",
      "35450204,220674,70363,33159,51444,1,0,2,25390,tutor,algebra,5948,11816,22,MasterySection,5948,1,Box and Whisker,22763,73,0,3,42000,30799,,88,0,,1,1\r\n",
      "35450295,220674,70363,33110,51395,1,1,1,4859,tutor,algebra,5948,11816,22,MasterySection,5948,1,Box and Whisker,22763,73,0,3,4859,30059,,41,0,,2,2\r\n"
     ]
    }
   ],
   "source": [
    "%%bash\n",
    "ls\n",
    "echo ''\n",
    "head -n 5 2015_100_skill_builders_main_problems.csv\n",
    "echo ''\n",
    "head -n 5 non_skill_builder_data_new.csv\n",
    "echo ''\n",
    "head -n 5 skill_builder_data.csv"
   ]
  },
  {
   "cell_type": "markdown",
   "metadata": {},
   "source": [
    "Some import points of the data according to its documents:\n",
    "\n",
    "* If answer_type == \"open_response\", then the response is always marked correct.\n",
    "* problem_set_type gives some information of the problem orders: Linear (all problems, predetermined order); Random (all problems, random order); Mastery (getting a certain number of questions, default 3, correct in a row to continue, random order).\n",
    "* skill_id: skill associated with the problem; in skill builder, multi-skill problems result in duplicate records; while in non-skill builder, different skills for the same data record are in the same row, separated with comma.\n",
    "\n",
    "The *Deep Knowledge Tracing* paper uses the 2010 skill builder dataset, so now we try to understand that better. The header is:\n",
    "\n",
    "order_id,assignment_id,user_id,assistment_id,problem_id,original,correct,\n",
    "attempt_count,ms_first_response,tutor_mode,answer_type,sequence_id,\n",
    "student_class_id,position,type,base_sequence_id,skill_id,skill_name,\n",
    "teacher_id,school_id,hint_count,hint_total,overlap_time,template_id,\n",
    "answer_id,answer_text,first_action,bottom_hint,opportunity,\n",
    "opportunity_original"
   ]
  },
  {
   "cell_type": "code",
   "execution_count": 3,
   "metadata": {
    "collapsed": false
   },
   "outputs": [
    {
     "name": "stdout",
     "output_type": "stream",
     "text": [
      "4217 students\n",
      "count    4217.000000\n",
      "mean       95.270571\n",
      "std       192.971604\n",
      "min         1.000000\n",
      "25%        10.000000\n",
      "50%        26.000000\n",
      "75%        84.000000\n",
      "max      1606.000000\n",
      "Name: user_id, dtype: float64\n",
      "studet 78978 did the most problems\n"
     ]
    }
   ],
   "source": [
    "student_count = skill_corrected_2010['user_id'].value_counts()\n",
    "print(\"%d students\" % len(student_count))\n",
    "print(student_count.describe())\n",
    "print(\"studet %d did the most problems\" % student_count.index[0])"
   ]
  },
  {
   "cell_type": "code",
   "execution_count": 4,
   "metadata": {
    "collapsed": false
   },
   "outputs": [
    {
     "name": "stdout",
     "output_type": "stream",
     "text": [
      "123 skills\n",
      "count      123.000000\n",
      "mean      2747.975610\n",
      "std       3742.686524\n",
      "min          1.000000\n",
      "25%        279.000000\n",
      "50%       1447.000000\n",
      "75%       3993.000000\n",
      "max      24253.000000\n",
      "Name: skill_id, dtype: float64\n",
      "Float64Index([311.0,  47.0, 277.0, 280.0,  70.0,  79.0,  50.0, 312.0,  17.0,\n",
      "               77.0,\n",
      "              ...\n",
      "              365.0, 343.0, 356.0, 321.0, 340.0, 331.0, 348.0, 334.0,  43.0,\n",
      "              102.0],\n",
      "             dtype='float64', length=123)\n"
     ]
    }
   ],
   "source": [
    "skill_count = skill_corrected_2010['skill_id'].value_counts()\n",
    "print(\"%d skills\" % len(skill_count))\n",
    "print(skill_count.describe())\n",
    "print(skill_count.index)"
   ]
  },
  {
   "cell_type": "code",
   "execution_count": 5,
   "metadata": {
    "collapsed": false
   },
   "outputs": [
    {
     "name": "stdout",
     "output_type": "stream",
     "text": [
      "26688 problems\n",
      "count    26688.000000\n",
      "mean        15.053807\n",
      "std         21.058209\n",
      "min          1.000000\n",
      "25%          3.000000\n",
      "50%          8.000000\n",
      "75%         18.000000\n",
      "max        272.000000\n",
      "Name: problem_id, dtype: float64\n",
      "328291 original problems\n"
     ]
    }
   ],
   "source": [
    "import numpy as np\n",
    "problem_count = skill_corrected_2010['problem_id'].value_counts()\n",
    "print(\"%d problems\" % len(problem_count))\n",
    "print(problem_count.describe())\n",
    "print(\"%d original problems\" % np.sum(skill_corrected_2010['original']))  # almost all problems are original"
   ]
  },
  {
   "cell_type": "code",
   "execution_count": 6,
   "metadata": {
    "collapsed": false
   },
   "outputs": [
    {
     "name": "stdout",
     "output_type": "stream",
     "text": [
      "346860 orders\n",
      "count    346860.000000\n",
      "mean          1.158266\n",
      "std           0.433837\n",
      "min           1.000000\n",
      "25%           1.000000\n",
      "50%           1.000000\n",
      "75%           1.000000\n",
      "max           4.000000\n",
      "Name: order_id, dtype: float64\n"
     ]
    }
   ],
   "source": [
    "order_count = skill_corrected_2010['order_id'].value_counts()    # basically unique\n",
    "print(\"%d orders\" % len(order_count))\n",
    "print(order_count.describe())"
   ]
  },
  {
   "cell_type": "code",
   "execution_count": 7,
   "metadata": {
    "collapsed": false
   },
   "outputs": [
    {
     "name": "stdout",
     "output_type": "stream",
     "text": [
      "order_id                                                 35023691\n",
      "assignment_id                                              280922\n",
      "user_id                                                     90996\n",
      "assistment_id                                               89416\n",
      "problem_id                                                 166381\n",
      "original                                                        1\n",
      "correct                                                         0\n",
      "attempt_count                                                  13\n",
      "ms_first_response                                           69011\n",
      "tutor_mode                                                  tutor\n",
      "answer_type                                               algebra\n",
      "sequence_id                                                 10445\n",
      "student_class_id                                            13583\n",
      "position                                                       15\n",
      "type                                               MasterySection\n",
      "base_sequence_id                                            10445\n",
      "skill_id                                                      173\n",
      "skill_name              Choose an Equation from Given Information\n",
      "teacher_id                                                  63101\n",
      "school_id                                                    5446\n",
      "hint_count                                                      3\n",
      "hint_total                                                      3\n",
      "overlap_time                                               343568\n",
      "template_id                                                 56516\n",
      "answer_id                                                     NaN\n",
      "answer_text                                                   NaN\n",
      "first_action                                                    1\n",
      "bottom_hint                                                     1\n",
      "opportunity                                                     1\n",
      "opportunity_original                                            1\n",
      "Name: 232493, dtype: object\n",
      "order_id                      35023691\n",
      "assignment_id                   280922\n",
      "user_id                          90996\n",
      "assistment_id                    89416\n",
      "problem_id                      166381\n",
      "original                             1\n",
      "correct                              0\n",
      "attempt_count                       13\n",
      "ms_first_response                69011\n",
      "tutor_mode                       tutor\n",
      "answer_type                    algebra\n",
      "sequence_id                      10445\n",
      "student_class_id                 13583\n",
      "position                            15\n",
      "type                    MasterySection\n",
      "base_sequence_id                 10445\n",
      "skill_id                           190\n",
      "skill_name                   Intercept\n",
      "teacher_id                       63101\n",
      "school_id                         5446\n",
      "hint_count                           3\n",
      "hint_total                           3\n",
      "overlap_time                    343568\n",
      "template_id                      56516\n",
      "answer_id                          NaN\n",
      "answer_text                        NaN\n",
      "first_action                         1\n",
      "bottom_hint                          1\n",
      "opportunity                          1\n",
      "opportunity_original                 1\n",
      "Name: 232582, dtype: object\n",
      "order_id                        35023691\n",
      "assignment_id                     280922\n",
      "user_id                            90996\n",
      "assistment_id                      89416\n",
      "problem_id                        166381\n",
      "original                               1\n",
      "correct                                0\n",
      "attempt_count                         13\n",
      "ms_first_response                  69011\n",
      "tutor_mode                         tutor\n",
      "answer_type                      algebra\n",
      "sequence_id                        10445\n",
      "student_class_id                   13583\n",
      "position                              15\n",
      "type                      MasterySection\n",
      "base_sequence_id                   10445\n",
      "skill_id                             193\n",
      "skill_name              Linear Equations\n",
      "teacher_id                         63101\n",
      "school_id                           5446\n",
      "hint_count                             3\n",
      "hint_total                             3\n",
      "overlap_time                      343568\n",
      "template_id                        56516\n",
      "answer_id                            NaN\n",
      "answer_text                          NaN\n",
      "first_action                           1\n",
      "bottom_hint                            1\n",
      "opportunity                            1\n",
      "opportunity_original                   1\n",
      "Name: 232671, dtype: object\n",
      "order_id                      35023691\n",
      "assignment_id                   280922\n",
      "user_id                          90996\n",
      "assistment_id                    89416\n",
      "problem_id                      166381\n",
      "original                             1\n",
      "correct                              0\n",
      "attempt_count                       13\n",
      "ms_first_response                69011\n",
      "tutor_mode                       tutor\n",
      "answer_type                    algebra\n",
      "sequence_id                      10445\n",
      "student_class_id                 13583\n",
      "position                            15\n",
      "type                    MasterySection\n",
      "base_sequence_id                 10445\n",
      "skill_id                           221\n",
      "skill_name                       Slope\n",
      "teacher_id                       63101\n",
      "school_id                         5446\n",
      "hint_count                           3\n",
      "hint_total                           3\n",
      "overlap_time                    343568\n",
      "template_id                      56516\n",
      "answer_id                          NaN\n",
      "answer_text                        NaN\n",
      "first_action                         1\n",
      "bottom_hint                          1\n",
      "opportunity                          1\n",
      "opportunity_original                 1\n",
      "Name: 233015, dtype: object\n"
     ]
    }
   ],
   "source": [
    "# duplicated order ids are originated form the fact that in Assistments, \n",
    "# if a question is associated with multiple skills, it will be multiple records, \n",
    "# the only difference between which is the skill_id \n",
    "duplicate_order = order_count.index[0]\n",
    "duplicate = skill_corrected_2010[skill_corrected_2010['order_id'] == duplicate_order]\n",
    "print(duplicate.iloc[0, :])\n",
    "print(duplicate.iloc[1, :])\n",
    "print(duplicate.iloc[2, :])\n",
    "print(duplicate.iloc[3, :])"
   ]
  },
  {
   "cell_type": "code",
   "execution_count": 8,
   "metadata": {
    "collapsed": false
   },
   "outputs": [
    {
     "name": "stdout",
     "output_type": "stream",
     "text": [
      "(1606, 30)\n",
      "learned 76 skills\n",
      "most practiced skill: 27\n",
      "\n",
      "sequence:\n",
      "count     7.000000\n",
      "mean      9.142857\n",
      "std       3.579040\n",
      "min       4.000000\n",
      "25%       8.000000\n",
      "50%       9.000000\n",
      "75%       9.500000\n",
      "max      16.000000\n",
      "Name: sequence_id, dtype: float64\n",
      "\n",
      "problem:\n",
      "count    64.0\n",
      "mean      1.0\n",
      "std       0.0\n",
      "min       1.0\n",
      "25%       1.0\n",
      "50%       1.0\n",
      "75%       1.0\n",
      "max       1.0\n",
      "Name: problem_id, dtype: float64\n",
      "\n",
      "assignment:\n",
      "count     7.000000\n",
      "mean      9.142857\n",
      "std       3.579040\n",
      "min       4.000000\n",
      "25%       8.000000\n",
      "50%       9.000000\n",
      "75%       9.500000\n",
      "max      16.000000\n",
      "Name: assignment_id, dtype: float64\n",
      "\n",
      "order:\n",
      "count    64.0\n",
      "mean      1.0\n",
      "std       0.0\n",
      "min       1.0\n",
      "25%       1.0\n",
      "50%       1.0\n",
      "75%       1.0\n",
      "max       1.0\n",
      "Name: order_id, dtype: float64\n",
      "(1, 30)\n"
     ]
    }
   ],
   "source": [
    "one_student = skill_corrected_2010[skill_corrected_2010['user_id'] == 78978]\n",
    "print(one_student.shape)\n",
    "skill_counts = one_student['skill_id'].value_counts()\n",
    "print(\"learned %d skills\" % len(skill_counts))\n",
    "print(\"most practiced skill: %d\" % skill_counts.index[0])\n",
    "one_skill_student = one_student[one_student['skill_id'] == 27]\n",
    "# sequence ~ assignment; problem ~ order\n",
    "# problem and order are unique when fixing student and skill\n",
    "print('\\nsequence:')\n",
    "print(one_skill_student['sequence_id'].value_counts().describe())\n",
    "print('\\nproblem:')\n",
    "print(one_skill_student['problem_id'].value_counts().describe())\n",
    "print('\\nassignment:')\n",
    "print(one_skill_student['assignment_id'].value_counts().describe())\n",
    "print('\\norder:')\n",
    "print(one_skill_student['order_id'].value_counts().describe())\n",
    "one_skill_student_problem = one_skill_student[one_skill_student['problem_id'] == one_skill_student['problem_id'].value_counts().index[0]]\n",
    "print(one_skill_student_problem.shape)"
   ]
  },
  {
   "cell_type": "code",
   "execution_count": 9,
   "metadata": {
    "collapsed": false
   },
   "outputs": [
    {
     "name": "stdout",
     "output_type": "stream",
     "text": [
      "MasterySection    401756\n",
      "Name: type, dtype: int64\n"
     ]
    }
   ],
   "source": [
    "# it's all mastery section\n",
    "set_type_count = skill_corrected_2010['type'].value_counts()\n",
    "print(set_type_count)"
   ]
  },
  {
   "cell_type": "code",
   "execution_count": 10,
   "metadata": {
    "collapsed": false
   },
   "outputs": [
    {
     "name": "stdout",
     "output_type": "stream",
     "text": [
      "       order_id  user_id  assignment_id  sequence_id  skill_id  correct\n",
      "73133  28876887    78978         271256         6471      27.0        0\n",
      "73134  28876932    78978         271256         6471      27.0        0\n",
      "73135  28876968    78978         271256         6471      27.0        0\n",
      "73136  28876979    78978         271256         6471      27.0        0\n",
      "73137  28876993    78978         271256         6471      27.0        0\n",
      "73138  28877011    78978         271256         6471      27.0        1\n",
      "73139  28877022    78978         271256         6471      27.0        1\n",
      "73140  28916274    78978         271256         6471      27.0        1\n",
      "73141  31568941    78978         271248         6408      27.0        1\n",
      "73142  31568968    78978         271248         6408      27.0        0\n",
      "73143  31569015    78978         271248         6408      27.0        0\n",
      "73144  31569036    78978         271248         6408      27.0        0\n",
      "73145  31569090    78978         271248         6408      27.0        1\n",
      "73146  31569139    78978         271248         6408      27.0        0\n",
      "73147  31616244    78978         271248         6408      27.0        1\n",
      "73148  31616299    78978         271248         6408      27.0        1\n",
      "73149  31799380    78978         271250         6409      27.0        0\n",
      "73150  31799392    78978         271250         6409      27.0        0\n",
      "73151  31799401    78978         271250         6409      27.0        0\n",
      "73152  31799409    78978         271250         6409      27.0        0\n",
      "73153  31799418    78978         271250         6409      27.0        0\n",
      "73154  31799427    78978         271250         6409      27.0        0\n",
      "73155  31799433    78978         271250         6409      27.0        0\n",
      "73156  31925849    78978         271252         6464      27.0        0\n",
      "73157  31925875    78978         271252         6464      27.0        1\n",
      "73158  31925887    78978         271252         6464      27.0        1\n",
      "73159  31925901    78978         271252         6464      27.0        1\n",
      "73160  31925937    78978         271255         6468      27.0        0\n",
      "73161  32076667    78978         271253         6465      27.0        1\n",
      "73162  32076693    78978         271253         6465      27.0        0\n",
      "...         ...      ...            ...          ...       ...      ...\n",
      "73167  32076890    78978         271253         6465      27.0        1\n",
      "73168  32076919    78978         271254         6467      27.0        0\n",
      "73169  32076960    78978         271254         6467      27.0        0\n",
      "73170  32076987    78978         271254         6467      27.0        0\n",
      "73171  32077019    78978         271254         6467      27.0        0\n",
      "73172  32077049    78978         271254         6467      27.0        1\n",
      "73173  32077061    78978         271254         6467      27.0        1\n",
      "73174  32077068    78978         271254         6467      27.0        0\n",
      "73175  32891071    78978         271254         6467      27.0        0\n",
      "73176  32891094    78978         271254         6467      27.0        0\n",
      "73177  32891114    78978         271254         6467      27.0        1\n",
      "73178  32891127    78978         271254         6467      27.0        1\n",
      "73179  32891133    78978         271254         6467      27.0        0\n",
      "73180  32891155    78978         271254         6467      27.0        1\n",
      "73181  32891173    78978         271253         6465      27.0        0\n",
      "73182  32891202    78978         271253         6465      27.0        1\n",
      "73183  32891208    78978         271253         6465      27.0        1\n",
      "73184  32891261    78978         271255         6468      27.0        0\n",
      "73185  33190548    78978         271250         6409      27.0        1\n",
      "73186  33190623    78978         271250         6409      27.0        1\n",
      "73187  33190997    78978         271255         6468      27.0        0\n",
      "73188  33191241    78978         271255         6468      27.0        0\n",
      "73189  33191543    78978         271255         6468      27.0        0\n",
      "73190  33192185    78978         271255         6468      27.0        1\n",
      "73191  33192421    78978         271255         6468      27.0        0\n",
      "73192  33193196    78978         271254         6467      27.0        0\n",
      "73193  33193528    78978         271254         6467      27.0        1\n",
      "73194  33193612    78978         271254         6467      27.0        1\n",
      "73195  33546077    78978         271255         6468      27.0        0\n",
      "73196  33546165    78978         271255         6468      27.0        0\n",
      "\n",
      "[64 rows x 6 columns]\n"
     ]
    }
   ],
   "source": [
    "# see how mastery section works\n",
    "one_skill_student_summary = one_skill_student[['order_id', 'user_id', 'assignment_id', 'sequence_id', 'skill_id', 'correct']]\n",
    "print(one_skill_student_summary)"
   ]
  },
  {
   "cell_type": "code",
   "execution_count": 11,
   "metadata": {
    "collapsed": false
   },
   "outputs": [
    {
     "name": "stdout",
     "output_type": "stream",
     "text": [
      "count    3521.000000\n",
      "mean      114.102812\n",
      "std       190.128480\n",
      "min         1.000000\n",
      "25%        12.000000\n",
      "50%        55.000000\n",
      "75%       138.000000\n",
      "max      3346.000000\n",
      "Name: assignment_id, dtype: float64\n",
      "count      677.000000\n",
      "mean       593.435746\n",
      "std        971.534666\n",
      "min          1.000000\n",
      "25%         88.000000\n",
      "50%        244.000000\n",
      "75%        704.000000\n",
      "max      10550.000000\n",
      "Name: sequence_id, dtype: float64\n"
     ]
    }
   ],
   "source": [
    "# assignments and sequence\n",
    "assignment_count = skill_corrected_2010['assignment_id'].value_counts()\n",
    "print(assignment_count.describe())\n",
    "sequence_count = skill_corrected_2010['sequence_id'].value_counts()\n",
    "print(sequence_count.describe())"
   ]
  },
  {
   "cell_type": "markdown",
   "metadata": {},
   "source": [
    "Note that only sequence 6408 and 6464 are done to mastery (3 correct answers in a row), while most sequences are not.\n",
    "It seems that several sequences have lowered their mastery standard to 2 correct answers in a row. Even if a student has mastered a skill, he/she still might fail in another assignment of the same skill.\n",
    "\n",
    "Although sequence isn't necessarily related to a unique assignment overall, it seems to be so in individual students.\n",
    "\n",
    "### Here are some data-quality problems discovered during pre-processing:\n",
    "* The original log has already been grouped according to skills. It is **NOT** chronological.\n",
    "* Some records/problems is not associated to a skill. Should discard those entries (around 60,000 entries)."
   ]
  },
  {
   "cell_type": "code",
   "execution_count": 12,
   "metadata": {
    "collapsed": false
   },
   "outputs": [
    {
     "name": "stdout",
     "output_type": "stream",
     "text": [
      "(8214, 30)\n",
      "learned 6 skills\n",
      "most practiced skill: 279\n",
      "\n",
      "sequence:\n",
      "count    0.0\n",
      "mean     NaN\n",
      "std      NaN\n",
      "min      NaN\n",
      "25%      NaN\n",
      "50%      NaN\n",
      "75%      NaN\n",
      "max      NaN\n",
      "Name: sequence_id, dtype: float64\n",
      "\n",
      "problem:\n",
      "count    0.0\n",
      "mean     NaN\n",
      "std      NaN\n",
      "min      NaN\n",
      "25%      NaN\n",
      "50%      NaN\n",
      "75%      NaN\n",
      "max      NaN\n",
      "Name: problem_id, dtype: float64\n",
      "\n",
      "assignment:\n",
      "count    0.0\n",
      "mean     NaN\n",
      "std      NaN\n",
      "min      NaN\n",
      "25%      NaN\n",
      "50%      NaN\n",
      "75%      NaN\n",
      "max      NaN\n",
      "Name: assignment_id, dtype: float64\n",
      "\n",
      "order:\n",
      "count    0.0\n",
      "mean     NaN\n",
      "std      NaN\n",
      "min      NaN\n",
      "25%      NaN\n",
      "50%      NaN\n",
      "75%      NaN\n",
      "max      NaN\n",
      "Name: order_id, dtype: float64\n"
     ]
    }
   ],
   "source": [
    "anomaly_student = skill_2010[skill_2010['user_id'] == 77899]\n",
    "print(anomaly_student.shape)\n",
    "skill_counts = anomaly_student['skill_id'].value_counts()\n",
    "print(\"learned %d skills\" % len(skill_counts))\n",
    "print(\"most practiced skill: %d\" % skill_counts.index[0])\n",
    "anomaly_one_skill_student = anomaly_student[anomaly_student['skill_id'] == 279]\n",
    "print('\\nsequence:')\n",
    "print(anomaly_one_skill_student['sequence_id'].value_counts().describe())\n",
    "print('\\nproblem:')\n",
    "print(anomaly_one_skill_student['problem_id'].value_counts().describe())\n",
    "print('\\nassignment:')\n",
    "print(anomaly_one_skill_student['assignment_id'].value_counts().describe())\n",
    "print('\\norder:')\n",
    "print(anomaly_one_skill_student['order_id'].value_counts().describe())"
   ]
  }
 ],
 "metadata": {
  "anaconda-cloud": {},
  "kernelspec": {
   "display_name": "Python [Root]",
   "language": "python",
   "name": "Python [Root]"
  },
  "language_info": {
   "codemirror_mode": {
    "name": "ipython",
    "version": 2
   },
   "file_extension": ".py",
   "mimetype": "text/x-python",
   "name": "python",
   "nbconvert_exporter": "python",
   "pygments_lexer": "ipython2",
   "version": "2.7.11"
  }
 },
 "nbformat": 4,
 "nbformat_minor": 0
}
