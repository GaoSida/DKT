{
 "cells": [
  {
   "cell_type": "markdown",
   "metadata": {},
   "source": [
    "# Split File\n",
    "Just like the file used in Mozer's code. It uses a bitmap to split the train and test set. We can use this file to easily cross validation."
   ]
  },
  {
   "cell_type": "code",
   "execution_count": 4,
   "metadata": {
    "collapsed": false
   },
   "outputs": [
    {
     "name": "stdout",
     "output_type": "stream",
     "text": [
      "4163 sequences\n"
     ]
    }
   ],
   "source": [
    "import pandas as pd\n",
    "df = pd.read_csv('assistment_for_dkt.csv')\n",
    "num_seqs = len(df['student'].value_counts())\n",
    "print str(num_seqs) + \" sequences\"\n",
    "\n",
    "test_ratio = 0.2\n",
    "train_size = int(num_seqs * (1 - test_ratio))"
   ]
  },
  {
   "cell_type": "code",
   "execution_count": null,
   "metadata": {
    "collapsed": true
   },
   "outputs": [],
   "source": [
    "# basic: begin with train, end with test\n",
    "split_map = file(\"split_basic.csv\", 'w')\n",
    "split_map.write('split\\n')\n",
    "\n",
    "for i in range(train_size):\n",
    "    split_map.write('0\\n')\n",
    "for i in range(train_size, num_seqs):\n",
    "    split_map.write('1\\n')\n",
    "split_map.flush()\n",
    "split_map.close()"
   ]
  },
  {
   "cell_type": "code",
   "execution_count": null,
   "metadata": {
    "collapsed": true
   },
   "outputs": [],
   "source": [
    "import random\n",
    "# random, for varied length\n",
    "split_map = file(\"split_random.csv\", 'w')\n",
    "split_map.write('split\\n')\n",
    "\n",
    "split_bitmap = []\n",
    "for i in range(train_size):\n",
    "    split_bitmap.append(0)\n",
    "for i in range(train_size, num_seqs):\n",
    "    split_bitmap.append(1)\n",
    "random.shuffle(split_bitmap)\n",
    "\n",
    "for i in range(num_seqs):\n",
    "    split_map.write(str(split_bitmap[i]) + '\\n')\n",
    "split_map.flush()\n",
    "split_map.close()"
   ]
  }
 ],
 "metadata": {
  "kernelspec": {
   "display_name": "Python [Root]",
   "language": "python",
   "name": "Python [Root]"
  },
  "language_info": {
   "codemirror_mode": {
    "name": "ipython",
    "version": 2
   },
   "file_extension": ".py",
   "mimetype": "text/x-python",
   "name": "python",
   "nbconvert_exporter": "python",
   "pygments_lexer": "ipython2",
   "version": "2.7.11"
  }
 },
 "nbformat": 4,
 "nbformat_minor": 0
}
