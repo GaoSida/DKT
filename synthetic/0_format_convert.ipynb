{
 "cells": [
  {
   "cell_type": "markdown",
   "metadata": {},
   "source": [
    "# Data Format Convert\n",
    "\n",
    "This script convert Chris Piech's Synthetic dataset to the format that my DKT model can take as an input. In their data, skill label and action label are stored separately, so here we combine them. They have 20 set of data, each consists 4000 students' answer result to 50 problems."
   ]
  },
  {
   "cell_type": "code",
   "execution_count": 14,
   "metadata": {
    "collapsed": false
   },
   "outputs": [],
   "source": [
    "import numpy as np\n",
    "\n",
    "num_sets = 20\n",
    "num_skills = 5\n",
    "num_students = 4000\n",
    "num_questions = 50\n",
    "\n",
    "def get_actions(no):\n",
    "    action_file = file(\"action/naive_c5_q50_s4000_v\" + str(no) + '.csv')\n",
    "    actions = np.zeros([num_students, num_questions])\n",
    "    \n",
    "    student_cnt = 0\n",
    "    for line in action_file:\n",
    "        line = line.split(',')\n",
    "        assert len(line) == num_questions\n",
    "        for i in range(len(line)):\n",
    "            actions[student_cnt][i] = int(line[i])\n",
    "        student_cnt += 1\n",
    "    assert student_cnt == num_students\n",
    "    \n",
    "    return actions \n",
    "\n",
    "def get_skill_labels(no):\n",
    "    info_file = file(\"info/naive_c5_q50_s4000_v\" + str(no) + '_info.txt')\n",
    "    skill_labels = []\n",
    "    \n",
    "    for line in info_file:\n",
    "        if no == 0:\n",
    "            line = line.split()\n",
    "        else:\n",
    "            line = line.split(',')\n",
    "        skill = int(line[2])\n",
    "        assert skill >= 0 and skill <= num_skills\n",
    "        skill_labels.append(skill)\n",
    "    \n",
    "    assert len(skill_labels) == num_questions\n",
    "    return skill_labels\n",
    "\n",
    "# Start generating file\n",
    "for i in range(num_sets):\n",
    "    actions = get_actions(i)\n",
    "    skills = get_skill_labels(i)\n",
    "    output_file = file('set_' + str(i) + '.csv', 'w')\n",
    "    output_file.write('student,skill,correct\\n')\n",
    "    for s in range(num_students):\n",
    "        for q in range(num_questions):\n",
    "            output_file.write(str(s) + ',' + str(skills[q]) + ',' + str(int(actions[s][q])) + '\\n')\n",
    "    output_file.flush()\n",
    "    output_file.close()\n",
    "            "
   ]
  }
 ],
 "metadata": {
  "kernelspec": {
   "display_name": "Python [Root]",
   "language": "python",
   "name": "Python [Root]"
  },
  "language_info": {
   "codemirror_mode": {
    "name": "ipython",
    "version": 2
   },
   "file_extension": ".py",
   "mimetype": "text/x-python",
   "name": "python",
   "nbconvert_exporter": "python",
   "pygments_lexer": "ipython2",
   "version": "2.7.11"
  }
 },
 "nbformat": 4,
 "nbformat_minor": 0
}
